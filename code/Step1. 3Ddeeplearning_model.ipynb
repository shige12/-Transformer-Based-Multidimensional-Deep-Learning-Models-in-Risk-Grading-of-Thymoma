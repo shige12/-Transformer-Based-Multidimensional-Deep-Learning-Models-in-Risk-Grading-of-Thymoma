{
 "cells": [
  {
   "cell_type": "markdown",
   "metadata": {},
   "source": [
    "# What3D\n",
    "分类任务，支持两种模式\n",
    "1. Folder模式，需要输入`train`, `valid`两个测试集对应的目录。`labels.txt`，需要训练的label，里面每个类别一行。\n",
    "2. List模式，需要输入`train`, `valid`两个测试集对应的训练文件，每行一个样本。`labels.txt`是可选参数，里面每个类别一行。`data_pattern`一个通用的目录，与train、val中的第一列进行拼接。"
   ]
  },
  {
   "cell_type": "markdown",
   "metadata": {},
   "source": [
    "### 支持的模型名称\n",
    "\n",
    "模型名称替换代码中的 `model_name`变量的值。\n",
    "\n",
    "| **模型系列** | **模型名称**                                                 |\n",
    "| ------------ | ------------------------------------------------------------ |\n",
    "| ResNet       | resnet10, resnet18, resnet34, resnet50, resnet101, resnet152, resnet200 |\n",
    "| DenseNet     | DenseNet121, DenseNet201, DenseNet169, DenseNet264           |\n",
    "| ShuffleNet   | ShuffleNet |\n",
    "| VisionTransformer     | ViT, SimpleViT, CCT         |\n",
    "| OnekeyAI | UNetClassification |     "
   ]
  },
  {
   "cell_type": "markdown",
   "metadata": {},
   "source": [
    "### List模式\n",
    "\n",
    "在Onekey中List模式一般是采用labelme标注出来的结果，如果要使用自己的数据应用List模式，需要根据自己的实际情况对数据进行处理。\n",
    "\n",
    "* `train.txt`，训练数据列表，中间用\\t（Tab水平制表符）进行分割。\n",
    "* `val.txt`，验证数据列表，中间用\\t（Tab水平制表符）进行分割。\n",
    "* `labels.txt`，label的集合，表明训练数据多少标签。\n",
    "* `data_pattern`参数，所有数据存在的目录的公共前缀，如果`train.txt`,`val.txt`文件里面存放的是绝对路径，`data_pattern`设置为None即可。"
   ]
  },
  {
   "cell_type": "code",
   "execution_count": null,
   "metadata": {},
   "outputs": [],
   "source": [
    "import os\n",
    "from collections import namedtuple\n",
    "from onekey_algo.classification3d.run_classification3d import main as clf_main3d\n",
    "from onekey_algo import get_param_in_cwd\n",
    "\n",
    "# 设置参数\n",
    "roi_size = [64, 64, 48]\n",
    "vit_settings = {\n",
    "        'image_size': roi_size[0],  # image size\n",
    "        'frames': roi_size[-1],  # number of frames\n",
    "        'image_patch_size': 16,  # image patch size\n",
    "        'frame_patch_size': 2,  # frame patch size\n",
    "        'dim': 1024,\n",
    "        'depth': 6,\n",
    "        'heads': 8,\n",
    "        'mlp_dim': 2048,\n",
    "        'dropout': 0.1,\n",
    "        'emb_dropout': 0.1}\n",
    "# 训练文件\n",
    "train = get_param_in_cwd('train_file')\n",
    "val = get_param_in_cwd('val_file')\n",
    "data_pattern = get_param_in_cwd('data_pattern')\n",
    "labels_file = r'labels.txt'\n",
    "\n",
    "for model_name in get_param_in_cwd('model_names'):\n",
    "    params = dict(train=train,\n",
    "                  val=val,\n",
    "                  labels_file=labels_file,\n",
    "                  data_pattern=data_pattern,\n",
    "                  j=0,\n",
    "                  max2use=None,\n",
    "                  normalize_method='imagenet',\n",
    "                  model_name=model_name,\n",
    "                  gpus=[0],\n",
    "                  roi_size=roi_size,\n",
    "                  batch_size=4,\n",
    "                  epochs=get_param_in_cwd('epoch'),\n",
    "                  init_lr=0.001,\n",
    "                  optimizer='adam',\n",
    "                  retrain=None,\n",
    "                  model_root=get_param_in_cwd('model_root'),\n",
    "                  val_interval=1,\n",
    "                  save_per_epoch=False,\n",
    "                  iters_verbose=10,\n",
    "                  model_config={'groups': 1, 'blocks_args': 'efficientnet-b4'},\n",
    "                  vit_settings=vit_settings,\n",
    "                  pretrained=True)\n",
    "    # 训练模型\n",
    "    Args = namedtuple(\"Args\", params)\n",
    "    clf_main3d(Args(**params))"
   ]
  },
  {
   "cell_type": "code",
   "execution_count": null,
   "metadata": {},
   "outputs": [],
   "source": []
  }
 ],
 "metadata": {
  "kernelspec": {
   "display_name": "Python 3 (ipykernel)",
   "language": "python",
   "name": "python3"
  },
  "language_info": {
   "codemirror_mode": {
    "name": "ipython",
    "version": 3
   },
   "file_extension": ".py",
   "mimetype": "text/x-python",
   "name": "python",
   "nbconvert_exporter": "python",
   "pygments_lexer": "ipython3",
   "version": "3.7.12"
  }
 },
 "nbformat": 4,
 "nbformat_minor": 4
}
